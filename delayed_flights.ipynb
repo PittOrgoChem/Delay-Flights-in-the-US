{
 "cells": [
  {
   "cell_type": "markdown",
   "metadata": {},
   "source": [
    "# DELAYED FLIGHTS IN THE US: A Painful Reality \n",
    "## *Author: Jean-Philippe Pitteloud*"
   ]
  },
  {
   "cell_type": "markdown",
   "metadata": {},
   "source": [
    "Have you ever experience a long and uncertain wait in a crowded airport without knowing if you are going to make it home, or your vacation, or your work meeting ? You are probably not alone in this group that typically have no other option but to patiently wait until the gates are finally open and the crew ready to scan your boarding pass. This work is inspired by a recent event that almost ruined a pleasant long weekdend in San Juan, Puerto Rico. What started as a fun trip to this beatiful island, slowly changed into a very painful experience for my family. A flight that was supposed to leave at 8:30 PM in the evening ended up leaving at 2:30 AM. The long wait was horrific, 2 hours inside a plane without A/C probably resembled more a torture than a pleasure. Since my intention is not to bore you with a story that may be millions can share, I decided to know a little bit more about the behind-the-scenes of flight delays."
   ]
  },
  {
   "cell_type": "markdown",
   "metadata": {},
   "source": [
    "### Requirements"
   ]
  },
  {
   "cell_type": "code",
   "execution_count": 1,
   "metadata": {},
   "outputs": [],
   "source": [
    "import numpy as np\n",
    "import pandas as pd\n",
    "import seaborn as sns\n",
    "import os, fnmatch\n",
    "import matplotlib.pyplot as plt\n",
    "from matplotlib import rcParams\n",
    "rcParams.update({'figure.autolayout': True})\n",
    "%matplotlib inline"
   ]
  },
  {
   "cell_type": "markdown",
   "metadata": {},
   "source": [
    "### Data Gathering"
   ]
  },
  {
   "cell_type": "markdown",
   "metadata": {},
   "source": [
    "In order to assemble our master dataset comprising information for the period of 2014-2018, a built-in function available in the 'OS' library was employed. First, the corresponding files for each year were manually downloaded from the United States Department of Transportation website (Bureau of Transportation Statistics, https://www.transtats.bts.gov/OT_Delay/OT_DelayCause1.asp?pn=1). After storing each separate file in a working directory, a list of files was created and a loop used to read and append the data to a dataframe named 'df_master'."
   ]
  },
  {
   "cell_type": "code",
   "execution_count": 2,
   "metadata": {},
   "outputs": [],
   "source": [
    "# a sorted list of the .csv files present in the working directory was created\n",
    "file_list = sorted(list(filter(lambda x: '.csv' in x, os.listdir('.'))))"
   ]
  },
  {
   "cell_type": "code",
   "execution_count": 3,
   "metadata": {},
   "outputs": [],
   "source": [
    "df_master = pd.DataFrame()\n",
    "for i in range(0, len(file_list)):\n",
    "    if df_master.empty: #evaluate if the 'comb_df' dataframe is empty\n",
    "        df_master = pd.read_csv(file_list[i]) #if empty, the dataframe resulting from 'prepare_data' is stored\n",
    "        i += 1 #increasing the indexing figure to move to the next file\n",
    "    else:\n",
    "        # if dataframe is not empty, merge new dataframe from 'prepare_data' to existing 'comb_df' dataframe\n",
    "        df_master = df_master.append(pd.read_csv(file_list[i]), ignore_index = True)\n",
    "        i += 1"
   ]
  },
  {
   "cell_type": "markdown",
   "metadata": {},
   "source": [
    "### Data Assessment and Cleaning"
   ]
  },
  {
   "cell_type": "markdown",
   "metadata": {},
   "source": [
    "Visual assessment of the dataset revealed a quite complete dataset with a diverse range of fields that include carrier and airport information, and a myriad of fields reporting the count of flights delayed and some of the most common reasons for their delays. Also, count of minutes delayed for each of those reasons is reported. The master dataset, is composed of 72,474 records of airlines during the period between January, 2014 and December, 2018."
   ]
  },
  {
   "cell_type": "code",
   "execution_count": 4,
   "metadata": {
    "scrolled": true
   },
   "outputs": [
    {
     "name": "stdout",
     "output_type": "stream",
     "text": [
      "Number of records on the master dataset: 72600\n"
     ]
    }
   ],
   "source": [
    "print('Number of records on the master dataset:', df_master.shape[0])"
   ]
  },
  {
   "cell_type": "markdown",
   "metadata": {},
   "source": [
    "The master dataset is divided into 23 columns. To avoid any confusion with the titles of the columns, some of the fields were appropriately renamed to be more explicit."
   ]
  },
  {
   "cell_type": "code",
   "execution_count": 5,
   "metadata": {
    "scrolled": false
   },
   "outputs": [],
   "source": [
    "df_master.rename(columns = {'arr_flights': 'total_flights', ' arr_delay': 'tot_min_delay', 'arr_del15': 'delayed_flights', 'arr_diverted': 'diverted_flights', 'arr_cancelled': 'cancelled_flights', ' carrier_delay': 'min_carrier_delay', 'weather_delay': 'min_weather_delay', 'nas_delay': 'min_nas_delay', 'security_delay': 'min_security_delay', 'late_aircraft_delay': 'min_late_aircraft_delay', 'carrier_ct': 'del_carrier_ct', ' weather_ct': 'del_weather_ct', 'nas_ct': 'del_nas_ct', 'security_ct': 'del_security_ct', 'late_aircraft_ct': 'del_late_aircraft_ct', ' month': 'month'}, inplace = True)"
   ]
  },
  {
   "cell_type": "markdown",
   "metadata": {},
   "source": [
    "Although the data in the field 'airport_name' includes the city and state where the aiport is located, the two letter state abbreviation was extracted to facilitate future aggregation of the data using the state as reference."
   ]
  },
  {
   "cell_type": "code",
   "execution_count": 6,
   "metadata": {},
   "outputs": [],
   "source": [
    "states = df_master.airport_name.str.extract(r'([A-Z][A-Z])')\n",
    "df_master = df_master.merge(states, left_index = True, right_index = True)\n",
    "\n",
    "df_master.rename(columns = {0: 'state'}, inplace = True)"
   ]
  },
  {
   "cell_type": "code",
   "execution_count": 7,
   "metadata": {
    "scrolled": true
   },
   "outputs": [
    {
     "data": {
      "text/html": [
       "<div>\n",
       "<style scoped>\n",
       "    .dataframe tbody tr th:only-of-type {\n",
       "        vertical-align: middle;\n",
       "    }\n",
       "\n",
       "    .dataframe tbody tr th {\n",
       "        vertical-align: top;\n",
       "    }\n",
       "\n",
       "    .dataframe thead th {\n",
       "        text-align: right;\n",
       "    }\n",
       "</style>\n",
       "<table border=\"1\" class=\"dataframe\">\n",
       "  <thead>\n",
       "    <tr style=\"text-align: right;\">\n",
       "      <th></th>\n",
       "      <th>year</th>\n",
       "      <th>month</th>\n",
       "      <th>carrier</th>\n",
       "      <th>carrier_name</th>\n",
       "      <th>airport</th>\n",
       "      <th>airport_name</th>\n",
       "      <th>total_flights</th>\n",
       "      <th>delayed_flights</th>\n",
       "      <th>del_carrier_ct</th>\n",
       "      <th>del_weather_ct</th>\n",
       "      <th>...</th>\n",
       "      <th>cancelled_flights</th>\n",
       "      <th>diverted_flights</th>\n",
       "      <th>tot_min_delay</th>\n",
       "      <th>min_carrier_delay</th>\n",
       "      <th>min_weather_delay</th>\n",
       "      <th>min_nas_delay</th>\n",
       "      <th>min_security_delay</th>\n",
       "      <th>min_late_aircraft_delay</th>\n",
       "      <th>Unnamed: 21</th>\n",
       "      <th>state</th>\n",
       "    </tr>\n",
       "  </thead>\n",
       "  <tbody>\n",
       "    <tr>\n",
       "      <th>0</th>\n",
       "      <td>2014</td>\n",
       "      <td>1</td>\n",
       "      <td>AA</td>\n",
       "      <td>American Airlines Inc.</td>\n",
       "      <td>JFK</td>\n",
       "      <td>New York, NY: John F. Kennedy International</td>\n",
       "      <td>1139.0</td>\n",
       "      <td>233.0</td>\n",
       "      <td>68.65</td>\n",
       "      <td>11.21</td>\n",
       "      <td>...</td>\n",
       "      <td>74.0</td>\n",
       "      <td>13.0</td>\n",
       "      <td>15754.0</td>\n",
       "      <td>3957.0</td>\n",
       "      <td>1575.0</td>\n",
       "      <td>3431.0</td>\n",
       "      <td>0.0</td>\n",
       "      <td>6791.0</td>\n",
       "      <td>NaN</td>\n",
       "      <td>NY</td>\n",
       "    </tr>\n",
       "    <tr>\n",
       "      <th>1</th>\n",
       "      <td>2014</td>\n",
       "      <td>1</td>\n",
       "      <td>AA</td>\n",
       "      <td>American Airlines Inc.</td>\n",
       "      <td>LAX</td>\n",
       "      <td>Los Angeles, CA: Los Angeles International</td>\n",
       "      <td>2595.0</td>\n",
       "      <td>452.0</td>\n",
       "      <td>132.37</td>\n",
       "      <td>74.77</td>\n",
       "      <td>...</td>\n",
       "      <td>62.0</td>\n",
       "      <td>3.0</td>\n",
       "      <td>25283.0</td>\n",
       "      <td>7552.0</td>\n",
       "      <td>4600.0</td>\n",
       "      <td>4232.0</td>\n",
       "      <td>4.0</td>\n",
       "      <td>8895.0</td>\n",
       "      <td>NaN</td>\n",
       "      <td>CA</td>\n",
       "    </tr>\n",
       "    <tr>\n",
       "      <th>2</th>\n",
       "      <td>2014</td>\n",
       "      <td>1</td>\n",
       "      <td>AA</td>\n",
       "      <td>American Airlines Inc.</td>\n",
       "      <td>DFW</td>\n",
       "      <td>Dallas/Fort Worth, TX: Dallas/Fort Worth Inter...</td>\n",
       "      <td>13135.0</td>\n",
       "      <td>2185.0</td>\n",
       "      <td>505.52</td>\n",
       "      <td>133.75</td>\n",
       "      <td>...</td>\n",
       "      <td>295.0</td>\n",
       "      <td>17.0</td>\n",
       "      <td>137289.0</td>\n",
       "      <td>49667.0</td>\n",
       "      <td>10471.0</td>\n",
       "      <td>18417.0</td>\n",
       "      <td>15.0</td>\n",
       "      <td>58719.0</td>\n",
       "      <td>NaN</td>\n",
       "      <td>TX</td>\n",
       "    </tr>\n",
       "    <tr>\n",
       "      <th>3</th>\n",
       "      <td>2014</td>\n",
       "      <td>1</td>\n",
       "      <td>AA</td>\n",
       "      <td>American Airlines Inc.</td>\n",
       "      <td>OGG</td>\n",
       "      <td>Kahului, HI: Kahului Airport</td>\n",
       "      <td>92.0</td>\n",
       "      <td>20.0</td>\n",
       "      <td>9.57</td>\n",
       "      <td>0.00</td>\n",
       "      <td>...</td>\n",
       "      <td>0.0</td>\n",
       "      <td>0.0</td>\n",
       "      <td>812.0</td>\n",
       "      <td>563.0</td>\n",
       "      <td>0.0</td>\n",
       "      <td>230.0</td>\n",
       "      <td>0.0</td>\n",
       "      <td>19.0</td>\n",
       "      <td>NaN</td>\n",
       "      <td>HI</td>\n",
       "    </tr>\n",
       "    <tr>\n",
       "      <th>4</th>\n",
       "      <td>2014</td>\n",
       "      <td>1</td>\n",
       "      <td>AA</td>\n",
       "      <td>American Airlines Inc.</td>\n",
       "      <td>HNL</td>\n",
       "      <td>Honolulu, HI: Daniel K Inouye International</td>\n",
       "      <td>176.0</td>\n",
       "      <td>50.0</td>\n",
       "      <td>14.46</td>\n",
       "      <td>5.65</td>\n",
       "      <td>...</td>\n",
       "      <td>0.0</td>\n",
       "      <td>1.0</td>\n",
       "      <td>2565.0</td>\n",
       "      <td>844.0</td>\n",
       "      <td>238.0</td>\n",
       "      <td>646.0</td>\n",
       "      <td>0.0</td>\n",
       "      <td>837.0</td>\n",
       "      <td>NaN</td>\n",
       "      <td>HI</td>\n",
       "    </tr>\n",
       "  </tbody>\n",
       "</table>\n",
       "<p>5 rows × 23 columns</p>\n",
       "</div>"
      ],
      "text/plain": [
       "   year  month carrier            carrier_name airport  \\\n",
       "0  2014      1      AA  American Airlines Inc.     JFK   \n",
       "1  2014      1      AA  American Airlines Inc.     LAX   \n",
       "2  2014      1      AA  American Airlines Inc.     DFW   \n",
       "3  2014      1      AA  American Airlines Inc.     OGG   \n",
       "4  2014      1      AA  American Airlines Inc.     HNL   \n",
       "\n",
       "                                        airport_name  total_flights  \\\n",
       "0        New York, NY: John F. Kennedy International         1139.0   \n",
       "1         Los Angeles, CA: Los Angeles International         2595.0   \n",
       "2  Dallas/Fort Worth, TX: Dallas/Fort Worth Inter...        13135.0   \n",
       "3                       Kahului, HI: Kahului Airport           92.0   \n",
       "4        Honolulu, HI: Daniel K Inouye International          176.0   \n",
       "\n",
       "   delayed_flights  del_carrier_ct  del_weather_ct  ...    cancelled_flights  \\\n",
       "0            233.0           68.65           11.21  ...                 74.0   \n",
       "1            452.0          132.37           74.77  ...                 62.0   \n",
       "2           2185.0          505.52          133.75  ...                295.0   \n",
       "3             20.0            9.57            0.00  ...                  0.0   \n",
       "4             50.0           14.46            5.65  ...                  0.0   \n",
       "\n",
       "   diverted_flights  tot_min_delay  min_carrier_delay  min_weather_delay  \\\n",
       "0              13.0        15754.0             3957.0             1575.0   \n",
       "1               3.0        25283.0             7552.0             4600.0   \n",
       "2              17.0       137289.0            49667.0            10471.0   \n",
       "3               0.0          812.0              563.0                0.0   \n",
       "4               1.0         2565.0              844.0              238.0   \n",
       "\n",
       "   min_nas_delay  min_security_delay  min_late_aircraft_delay  Unnamed: 21  \\\n",
       "0         3431.0                 0.0                   6791.0          NaN   \n",
       "1         4232.0                 4.0                   8895.0          NaN   \n",
       "2        18417.0                15.0                  58719.0          NaN   \n",
       "3          230.0                 0.0                     19.0          NaN   \n",
       "4          646.0                 0.0                    837.0          NaN   \n",
       "\n",
       "   state  \n",
       "0     NY  \n",
       "1     CA  \n",
       "2     TX  \n",
       "3     HI  \n",
       "4     HI  \n",
       "\n",
       "[5 rows x 23 columns]"
      ]
     },
     "execution_count": 7,
     "metadata": {},
     "output_type": "execute_result"
    }
   ],
   "source": [
    "df_master.head()"
   ]
  },
  {
   "cell_type": "markdown",
   "metadata": {},
   "source": [
    "In order to get information about the integrity and quality of the data, information about the formatting and the completeness of each field was retrieved. As it can be seen below, most of the fields are quite complete except the last field named 'Unnamed: 21'. Also, a very small percentage (< 0.1%) of missing records is reported in some of the remaining fields."
   ]
  },
  {
   "cell_type": "code",
   "execution_count": 8,
   "metadata": {
    "scrolled": true
   },
   "outputs": [
    {
     "name": "stdout",
     "output_type": "stream",
     "text": [
      "<class 'pandas.core.frame.DataFrame'>\n",
      "RangeIndex: 72600 entries, 0 to 72599\n",
      "Data columns (total 23 columns):\n",
      "year                       72600 non-null int64\n",
      "month                      72600 non-null int64\n",
      "carrier                    72600 non-null object\n",
      "carrier_name               72600 non-null object\n",
      "airport                    72600 non-null object\n",
      "airport_name               72600 non-null object\n",
      "total_flights              72520 non-null float64\n",
      "delayed_flights            72505 non-null float64\n",
      "del_carrier_ct             72520 non-null float64\n",
      "del_weather_ct             72520 non-null float64\n",
      "del_nas_ct                 72520 non-null float64\n",
      "del_security_ct            72520 non-null float64\n",
      "del_late_aircraft_ct       72520 non-null float64\n",
      "cancelled_flights          72520 non-null float64\n",
      "diverted_flights           72520 non-null float64\n",
      "tot_min_delay              72520 non-null float64\n",
      "min_carrier_delay          72520 non-null float64\n",
      "min_weather_delay          72520 non-null float64\n",
      "min_nas_delay              72520 non-null float64\n",
      "min_security_delay         72520 non-null float64\n",
      "min_late_aircraft_delay    72520 non-null float64\n",
      "Unnamed: 21                0 non-null float64\n",
      "state                      72600 non-null object\n",
      "dtypes: float64(16), int64(2), object(5)\n",
      "memory usage: 12.7+ MB\n"
     ]
    }
   ],
   "source": [
    "df_master.info()"
   ]
  },
  {
   "cell_type": "markdown",
   "metadata": {},
   "source": [
    "Since the field 'Unnamed: 21' is completely empty, the field was removed from the master dataset."
   ]
  },
  {
   "cell_type": "code",
   "execution_count": 9,
   "metadata": {},
   "outputs": [],
   "source": [
    "df_master.drop('Unnamed: 21', axis = 1, inplace = True)"
   ]
  },
  {
   "cell_type": "markdown",
   "metadata": {},
   "source": [
    "In order to address the presence of less than 0.1% of missing records in some of our fields, the best course of action in this particular case is to remove the records containing any missing values from the master dataset."
   ]
  },
  {
   "cell_type": "code",
   "execution_count": 10,
   "metadata": {},
   "outputs": [],
   "source": [
    "df_master.dropna(inplace = True)"
   ]
  },
  {
   "cell_type": "markdown",
   "metadata": {},
   "source": [
    "Upon addressing the presence of missing values from our dataset, the number of records was reduced to 72,379."
   ]
  },
  {
   "cell_type": "code",
   "execution_count": 11,
   "metadata": {
    "scrolled": false
   },
   "outputs": [
    {
     "name": "stdout",
     "output_type": "stream",
     "text": [
      "Number of records after addressing missing values: 72505\n"
     ]
    }
   ],
   "source": [
    "print('Number of records after addressing missing values:', df_master.shape[0])"
   ]
  },
  {
   "cell_type": "markdown",
   "metadata": {},
   "source": [
    "To make the data more presentable, the order of the fields in our dataset was arranged into a more appropriate format, "
   ]
  },
  {
   "cell_type": "code",
   "execution_count": 12,
   "metadata": {
    "scrolled": true
   },
   "outputs": [
    {
     "data": {
      "text/plain": [
       "Index(['year', 'month', 'carrier', 'carrier_name', 'airport', 'airport_name',\n",
       "       'state', 'total_flights', 'delayed_flights', 'del_carrier_ct',\n",
       "       'del_weather_ct', 'del_nas_ct', 'del_security_ct',\n",
       "       'del_late_aircraft_ct', 'cancelled_flights', 'diverted_flights',\n",
       "       'tot_min_delay', 'min_carrier_delay', 'min_weather_delay',\n",
       "       'min_nas_delay', 'min_security_delay', 'min_late_aircraft_delay'],\n",
       "      dtype='object')"
      ]
     },
     "execution_count": 12,
     "metadata": {},
     "output_type": "execute_result"
    }
   ],
   "source": [
    "df_master = df_master[['year', 'month', 'carrier', 'carrier_name', 'airport', 'airport_name', 'state', 'total_flights', 'delayed_flights', 'del_carrier_ct', 'del_weather_ct', 'del_nas_ct', 'del_security_ct', 'del_late_aircraft_ct', 'cancelled_flights', 'diverted_flights', 'tot_min_delay', 'min_carrier_delay', 'min_weather_delay', 'min_nas_delay', 'min_security_delay', 'min_late_aircraft_delay']]\n",
    "\n",
    "df_master.columns"
   ]
  },
  {
   "cell_type": "markdown",
   "metadata": {},
   "source": [
    "In an attempt to best compare the performance of different airlines and airports with regards to delays and cancellations of flights, some new features or fields were created from the existing ones. For example, the \"percentage of delayed flights\" (pct_delayed_flights) can be considered a much better metric than just the \"number of delayed flights\" (delayed_flights) at the moment of comparing the performance of a small carrier and a large carrier. Based on this logic, multiple new fields were created as described below."
   ]
  },
  {
   "cell_type": "code",
   "execution_count": 13,
   "metadata": {},
   "outputs": [],
   "source": [
    "# a series of new features were created from some of the original to provide percetanges and proportions rather than total counts\n",
    "df_master['pct_delayed_flights'] = (df_master['delayed_flights'] / df_master['total_flights']) * 100\n",
    "df_master['pct_cancelled_flights'] = (df_master['cancelled_flights'] / df_master['total_flights']) * 100\n",
    "df_master['pct_diverted_flights'] = (df_master['diverted_flights'] / df_master['total_flights']) * 100\n",
    "df_master['pct_del_carrier'] = (df_master['del_carrier_ct'] / df_master['delayed_flights']) * 100\n",
    "df_master['pct_del_weather'] = (df_master['del_weather_ct'] / df_master['delayed_flights']) * 100\n",
    "df_master['pct_del_nas'] = (df_master['del_nas_ct'] / df_master['delayed_flights']) * 100\n",
    "df_master['pct_del_security'] = (df_master['del_security_ct'] / df_master['delayed_flights']) * 100\n",
    "df_master['pct_del_late'] = (df_master['del_late_aircraft_ct'] / df_master['delayed_flights']) * 100\n",
    "df_master['min_per_delay'] = df_master['tot_min_delay'] / df_master['delayed_flights']"
   ]
  },
  {
   "cell_type": "markdown",
   "metadata": {},
   "source": [
    "A sample of our cleaned dataset is presented below,"
   ]
  },
  {
   "cell_type": "code",
   "execution_count": 14,
   "metadata": {
    "scrolled": true
   },
   "outputs": [
    {
     "name": "stdout",
     "output_type": "stream",
     "text": [
      "The cleaned dataset consists of 72505 rows and 31 columns\n"
     ]
    },
    {
     "data": {
      "text/html": [
       "<div>\n",
       "<style scoped>\n",
       "    .dataframe tbody tr th:only-of-type {\n",
       "        vertical-align: middle;\n",
       "    }\n",
       "\n",
       "    .dataframe tbody tr th {\n",
       "        vertical-align: top;\n",
       "    }\n",
       "\n",
       "    .dataframe thead th {\n",
       "        text-align: right;\n",
       "    }\n",
       "</style>\n",
       "<table border=\"1\" class=\"dataframe\">\n",
       "  <thead>\n",
       "    <tr style=\"text-align: right;\">\n",
       "      <th></th>\n",
       "      <th>year</th>\n",
       "      <th>month</th>\n",
       "      <th>carrier</th>\n",
       "      <th>carrier_name</th>\n",
       "      <th>airport</th>\n",
       "      <th>airport_name</th>\n",
       "      <th>state</th>\n",
       "      <th>total_flights</th>\n",
       "      <th>delayed_flights</th>\n",
       "      <th>del_carrier_ct</th>\n",
       "      <th>...</th>\n",
       "      <th>min_late_aircraft_delay</th>\n",
       "      <th>pct_delayed_flights</th>\n",
       "      <th>pct_cancelled_flights</th>\n",
       "      <th>pct_diverted_flights</th>\n",
       "      <th>pct_del_carrier</th>\n",
       "      <th>pct_del_weather</th>\n",
       "      <th>pct_del_nas</th>\n",
       "      <th>pct_del_security</th>\n",
       "      <th>pct_del_late</th>\n",
       "      <th>min_per_delay</th>\n",
       "    </tr>\n",
       "  </thead>\n",
       "  <tbody>\n",
       "    <tr>\n",
       "      <th>29114</th>\n",
       "      <td>2016</td>\n",
       "      <td>2</td>\n",
       "      <td>NK</td>\n",
       "      <td>Spirit Air Lines</td>\n",
       "      <td>RSW</td>\n",
       "      <td>Fort Myers, FL: Southwest Florida International</td>\n",
       "      <td>FL</td>\n",
       "      <td>354.0</td>\n",
       "      <td>126.0</td>\n",
       "      <td>21.59</td>\n",
       "      <td>...</td>\n",
       "      <td>1969.0</td>\n",
       "      <td>35.593220</td>\n",
       "      <td>2.824859</td>\n",
       "      <td>0.564972</td>\n",
       "      <td>17.134921</td>\n",
       "      <td>0.428571</td>\n",
       "      <td>65.047619</td>\n",
       "      <td>0.000000</td>\n",
       "      <td>17.388889</td>\n",
       "      <td>65.714286</td>\n",
       "    </tr>\n",
       "    <tr>\n",
       "      <th>63101</th>\n",
       "      <td>2018</td>\n",
       "      <td>7</td>\n",
       "      <td>MQ</td>\n",
       "      <td>Envoy Air</td>\n",
       "      <td>FAY</td>\n",
       "      <td>Fayetteville, NC: Fayetteville Regional/Granni...</td>\n",
       "      <td>NC</td>\n",
       "      <td>25.0</td>\n",
       "      <td>6.0</td>\n",
       "      <td>1.30</td>\n",
       "      <td>...</td>\n",
       "      <td>0.0</td>\n",
       "      <td>24.000000</td>\n",
       "      <td>8.000000</td>\n",
       "      <td>0.000000</td>\n",
       "      <td>21.666667</td>\n",
       "      <td>12.833333</td>\n",
       "      <td>65.500000</td>\n",
       "      <td>0.000000</td>\n",
       "      <td>0.000000</td>\n",
       "      <td>24.000000</td>\n",
       "    </tr>\n",
       "    <tr>\n",
       "      <th>5346</th>\n",
       "      <td>2014</td>\n",
       "      <td>5</td>\n",
       "      <td>MQ</td>\n",
       "      <td>Envoy Air</td>\n",
       "      <td>DCA</td>\n",
       "      <td>Washington, DC: Ronald Reagan Washington National</td>\n",
       "      <td>DC</td>\n",
       "      <td>580.0</td>\n",
       "      <td>141.0</td>\n",
       "      <td>30.46</td>\n",
       "      <td>...</td>\n",
       "      <td>4525.0</td>\n",
       "      <td>24.310345</td>\n",
       "      <td>5.862069</td>\n",
       "      <td>0.172414</td>\n",
       "      <td>21.602837</td>\n",
       "      <td>1.865248</td>\n",
       "      <td>25.354610</td>\n",
       "      <td>0.113475</td>\n",
       "      <td>51.056738</td>\n",
       "      <td>59.680851</td>\n",
       "    </tr>\n",
       "    <tr>\n",
       "      <th>72099</th>\n",
       "      <td>2018</td>\n",
       "      <td>12</td>\n",
       "      <td>UA</td>\n",
       "      <td>United Air Lines Inc.</td>\n",
       "      <td>BDL</td>\n",
       "      <td>Hartford, CT: Bradley International</td>\n",
       "      <td>CT</td>\n",
       "      <td>174.0</td>\n",
       "      <td>21.0</td>\n",
       "      <td>6.55</td>\n",
       "      <td>...</td>\n",
       "      <td>635.0</td>\n",
       "      <td>12.068966</td>\n",
       "      <td>0.000000</td>\n",
       "      <td>0.000000</td>\n",
       "      <td>31.190476</td>\n",
       "      <td>0.000000</td>\n",
       "      <td>21.238095</td>\n",
       "      <td>0.000000</td>\n",
       "      <td>47.571429</td>\n",
       "      <td>45.809524</td>\n",
       "    </tr>\n",
       "    <tr>\n",
       "      <th>37086</th>\n",
       "      <td>2016</td>\n",
       "      <td>10</td>\n",
       "      <td>EV</td>\n",
       "      <td>ExpressJet Airlines Inc.</td>\n",
       "      <td>CWA</td>\n",
       "      <td>Mosinee, WI: Central Wisconsin</td>\n",
       "      <td>WI</td>\n",
       "      <td>42.0</td>\n",
       "      <td>5.0</td>\n",
       "      <td>0.97</td>\n",
       "      <td>...</td>\n",
       "      <td>117.0</td>\n",
       "      <td>11.904762</td>\n",
       "      <td>0.000000</td>\n",
       "      <td>0.000000</td>\n",
       "      <td>19.400000</td>\n",
       "      <td>0.000000</td>\n",
       "      <td>21.800000</td>\n",
       "      <td>0.000000</td>\n",
       "      <td>58.800000</td>\n",
       "      <td>31.400000</td>\n",
       "    </tr>\n",
       "  </tbody>\n",
       "</table>\n",
       "<p>5 rows × 31 columns</p>\n",
       "</div>"
      ],
      "text/plain": [
       "       year  month carrier              carrier_name airport  \\\n",
       "29114  2016      2      NK          Spirit Air Lines     RSW   \n",
       "63101  2018      7      MQ                 Envoy Air     FAY   \n",
       "5346   2014      5      MQ                 Envoy Air     DCA   \n",
       "72099  2018     12      UA     United Air Lines Inc.     BDL   \n",
       "37086  2016     10      EV  ExpressJet Airlines Inc.     CWA   \n",
       "\n",
       "                                            airport_name state  total_flights  \\\n",
       "29114    Fort Myers, FL: Southwest Florida International    FL          354.0   \n",
       "63101  Fayetteville, NC: Fayetteville Regional/Granni...    NC           25.0   \n",
       "5346   Washington, DC: Ronald Reagan Washington National    DC          580.0   \n",
       "72099                Hartford, CT: Bradley International    CT          174.0   \n",
       "37086                     Mosinee, WI: Central Wisconsin    WI           42.0   \n",
       "\n",
       "       delayed_flights  del_carrier_ct      ...        \\\n",
       "29114            126.0           21.59      ...         \n",
       "63101              6.0            1.30      ...         \n",
       "5346             141.0           30.46      ...         \n",
       "72099             21.0            6.55      ...         \n",
       "37086              5.0            0.97      ...         \n",
       "\n",
       "       min_late_aircraft_delay  pct_delayed_flights  pct_cancelled_flights  \\\n",
       "29114                   1969.0            35.593220               2.824859   \n",
       "63101                      0.0            24.000000               8.000000   \n",
       "5346                    4525.0            24.310345               5.862069   \n",
       "72099                    635.0            12.068966               0.000000   \n",
       "37086                    117.0            11.904762               0.000000   \n",
       "\n",
       "       pct_diverted_flights  pct_del_carrier  pct_del_weather  pct_del_nas  \\\n",
       "29114              0.564972        17.134921         0.428571    65.047619   \n",
       "63101              0.000000        21.666667        12.833333    65.500000   \n",
       "5346               0.172414        21.602837         1.865248    25.354610   \n",
       "72099              0.000000        31.190476         0.000000    21.238095   \n",
       "37086              0.000000        19.400000         0.000000    21.800000   \n",
       "\n",
       "       pct_del_security  pct_del_late  min_per_delay  \n",
       "29114          0.000000     17.388889      65.714286  \n",
       "63101          0.000000      0.000000      24.000000  \n",
       "5346           0.113475     51.056738      59.680851  \n",
       "72099          0.000000     47.571429      45.809524  \n",
       "37086          0.000000     58.800000      31.400000  \n",
       "\n",
       "[5 rows x 31 columns]"
      ]
     },
     "execution_count": 14,
     "metadata": {},
     "output_type": "execute_result"
    }
   ],
   "source": [
    "print('The cleaned dataset consists of {} rows and {} columns'.format(df_master.shape[0], df_master.shape[1]))\n",
    "\n",
    "df_master.sample(5)"
   ]
  },
  {
   "cell_type": "markdown",
   "metadata": {},
   "source": [
    "Finally, a look into the summary statistics for the dataset might provide more information about the distribution of the numeric fields."
   ]
  },
  {
   "cell_type": "code",
   "execution_count": 15,
   "metadata": {
    "scrolled": true
   },
   "outputs": [
    {
     "data": {
      "text/html": [
       "<div>\n",
       "<style scoped>\n",
       "    .dataframe tbody tr th:only-of-type {\n",
       "        vertical-align: middle;\n",
       "    }\n",
       "\n",
       "    .dataframe tbody tr th {\n",
       "        vertical-align: top;\n",
       "    }\n",
       "\n",
       "    .dataframe thead th {\n",
       "        text-align: right;\n",
       "    }\n",
       "</style>\n",
       "<table border=\"1\" class=\"dataframe\">\n",
       "  <thead>\n",
       "    <tr style=\"text-align: right;\">\n",
       "      <th></th>\n",
       "      <th>year</th>\n",
       "      <th>month</th>\n",
       "      <th>total_flights</th>\n",
       "      <th>delayed_flights</th>\n",
       "      <th>del_carrier_ct</th>\n",
       "      <th>del_weather_ct</th>\n",
       "      <th>del_nas_ct</th>\n",
       "      <th>del_security_ct</th>\n",
       "      <th>del_late_aircraft_ct</th>\n",
       "      <th>cancelled_flights</th>\n",
       "      <th>...</th>\n",
       "      <th>min_late_aircraft_delay</th>\n",
       "      <th>pct_delayed_flights</th>\n",
       "      <th>pct_cancelled_flights</th>\n",
       "      <th>pct_diverted_flights</th>\n",
       "      <th>pct_del_carrier</th>\n",
       "      <th>pct_del_weather</th>\n",
       "      <th>pct_del_nas</th>\n",
       "      <th>pct_del_security</th>\n",
       "      <th>pct_del_late</th>\n",
       "      <th>min_per_delay</th>\n",
       "    </tr>\n",
       "  </thead>\n",
       "  <tbody>\n",
       "    <tr>\n",
       "      <th>count</th>\n",
       "      <td>72505.000000</td>\n",
       "      <td>72505.000000</td>\n",
       "      <td>72505.000000</td>\n",
       "      <td>72505.000000</td>\n",
       "      <td>72505.000000</td>\n",
       "      <td>72505.000000</td>\n",
       "      <td>72505.000000</td>\n",
       "      <td>72505.000000</td>\n",
       "      <td>72505.000000</td>\n",
       "      <td>72505.000000</td>\n",
       "      <td>...</td>\n",
       "      <td>72505.000000</td>\n",
       "      <td>72505.000000</td>\n",
       "      <td>72505.000000</td>\n",
       "      <td>72505.000000</td>\n",
       "      <td>70748.000000</td>\n",
       "      <td>70748.000000</td>\n",
       "      <td>70748.000000</td>\n",
       "      <td>70748.000000</td>\n",
       "      <td>70748.000000</td>\n",
       "      <td>70748.000000</td>\n",
       "    </tr>\n",
       "    <tr>\n",
       "      <th>mean</th>\n",
       "      <td>2016.163271</td>\n",
       "      <td>6.507124</td>\n",
       "      <td>417.198566</td>\n",
       "      <td>78.242466</td>\n",
       "      <td>22.463791</td>\n",
       "      <td>2.430164</td>\n",
       "      <td>24.321352</td>\n",
       "      <td>0.135017</td>\n",
       "      <td>28.892165</td>\n",
       "      <td>6.667057</td>\n",
       "      <td>...</td>\n",
       "      <td>1918.875884</td>\n",
       "      <td>19.203377</td>\n",
       "      <td>1.763340</td>\n",
       "      <td>0.292673</td>\n",
       "      <td>35.725165</td>\n",
       "      <td>3.936467</td>\n",
       "      <td>27.615986</td>\n",
       "      <td>0.187687</td>\n",
       "      <td>32.535806</td>\n",
       "      <td>59.204652</td>\n",
       "    </tr>\n",
       "    <tr>\n",
       "      <th>std</th>\n",
       "      <td>1.493389</td>\n",
       "      <td>3.449188</td>\n",
       "      <td>1094.039813</td>\n",
       "      <td>195.069241</td>\n",
       "      <td>49.352208</td>\n",
       "      <td>7.231386</td>\n",
       "      <td>70.936954</td>\n",
       "      <td>0.558802</td>\n",
       "      <td>79.384913</td>\n",
       "      <td>28.425990</td>\n",
       "      <td>...</td>\n",
       "      <td>5365.458134</td>\n",
       "      <td>10.333389</td>\n",
       "      <td>3.351874</td>\n",
       "      <td>1.008620</td>\n",
       "      <td>17.907886</td>\n",
       "      <td>7.020914</td>\n",
       "      <td>18.300916</td>\n",
       "      <td>1.464296</td>\n",
       "      <td>17.233184</td>\n",
       "      <td>28.580177</td>\n",
       "    </tr>\n",
       "    <tr>\n",
       "      <th>min</th>\n",
       "      <td>2014.000000</td>\n",
       "      <td>1.000000</td>\n",
       "      <td>1.000000</td>\n",
       "      <td>0.000000</td>\n",
       "      <td>0.000000</td>\n",
       "      <td>0.000000</td>\n",
       "      <td>0.000000</td>\n",
       "      <td>0.000000</td>\n",
       "      <td>0.000000</td>\n",
       "      <td>0.000000</td>\n",
       "      <td>...</td>\n",
       "      <td>0.000000</td>\n",
       "      <td>0.000000</td>\n",
       "      <td>0.000000</td>\n",
       "      <td>0.000000</td>\n",
       "      <td>0.000000</td>\n",
       "      <td>0.000000</td>\n",
       "      <td>0.000000</td>\n",
       "      <td>0.000000</td>\n",
       "      <td>0.000000</td>\n",
       "      <td>15.000000</td>\n",
       "    </tr>\n",
       "    <tr>\n",
       "      <th>25%</th>\n",
       "      <td>2015.000000</td>\n",
       "      <td>4.000000</td>\n",
       "      <td>58.000000</td>\n",
       "      <td>9.000000</td>\n",
       "      <td>2.950000</td>\n",
       "      <td>0.000000</td>\n",
       "      <td>1.790000</td>\n",
       "      <td>0.000000</td>\n",
       "      <td>2.240000</td>\n",
       "      <td>0.000000</td>\n",
       "      <td>...</td>\n",
       "      <td>123.000000</td>\n",
       "      <td>12.500000</td>\n",
       "      <td>0.000000</td>\n",
       "      <td>0.000000</td>\n",
       "      <td>24.963780</td>\n",
       "      <td>0.000000</td>\n",
       "      <td>15.000000</td>\n",
       "      <td>0.000000</td>\n",
       "      <td>21.744085</td>\n",
       "      <td>44.904762</td>\n",
       "    </tr>\n",
       "    <tr>\n",
       "      <th>50%</th>\n",
       "      <td>2016.000000</td>\n",
       "      <td>7.000000</td>\n",
       "      <td>120.000000</td>\n",
       "      <td>22.000000</td>\n",
       "      <td>7.760000</td>\n",
       "      <td>0.540000</td>\n",
       "      <td>5.300000</td>\n",
       "      <td>0.000000</td>\n",
       "      <td>6.990000</td>\n",
       "      <td>1.000000</td>\n",
       "      <td>...</td>\n",
       "      <td>445.000000</td>\n",
       "      <td>18.048780</td>\n",
       "      <td>0.486285</td>\n",
       "      <td>0.000000</td>\n",
       "      <td>33.916667</td>\n",
       "      <td>1.416667</td>\n",
       "      <td>25.000000</td>\n",
       "      <td>0.000000</td>\n",
       "      <td>32.326499</td>\n",
       "      <td>55.307751</td>\n",
       "    </tr>\n",
       "    <tr>\n",
       "      <th>75%</th>\n",
       "      <td>2018.000000</td>\n",
       "      <td>9.000000</td>\n",
       "      <td>301.000000</td>\n",
       "      <td>58.000000</td>\n",
       "      <td>19.820000</td>\n",
       "      <td>2.000000</td>\n",
       "      <td>15.160000</td>\n",
       "      <td>0.000000</td>\n",
       "      <td>19.340000</td>\n",
       "      <td>4.000000</td>\n",
       "      <td>...</td>\n",
       "      <td>1316.000000</td>\n",
       "      <td>24.561404</td>\n",
       "      <td>2.173913</td>\n",
       "      <td>0.186451</td>\n",
       "      <td>44.368421</td>\n",
       "      <td>5.013490</td>\n",
       "      <td>37.000000</td>\n",
       "      <td>0.000000</td>\n",
       "      <td>43.136755</td>\n",
       "      <td>67.709821</td>\n",
       "    </tr>\n",
       "    <tr>\n",
       "      <th>max</th>\n",
       "      <td>2019.000000</td>\n",
       "      <td>12.000000</td>\n",
       "      <td>21977.000000</td>\n",
       "      <td>4176.000000</td>\n",
       "      <td>1242.160000</td>\n",
       "      <td>240.790000</td>\n",
       "      <td>1884.420000</td>\n",
       "      <td>19.530000</td>\n",
       "      <td>1849.000000</td>\n",
       "      <td>1312.000000</td>\n",
       "      <td>...</td>\n",
       "      <td>148181.000000</td>\n",
       "      <td>100.000000</td>\n",
       "      <td>86.666667</td>\n",
       "      <td>66.666667</td>\n",
       "      <td>100.000000</td>\n",
       "      <td>100.000000</td>\n",
       "      <td>100.000000</td>\n",
       "      <td>100.000000</td>\n",
       "      <td>100.000000</td>\n",
       "      <td>1461.000000</td>\n",
       "    </tr>\n",
       "  </tbody>\n",
       "</table>\n",
       "<p>8 rows × 26 columns</p>\n",
       "</div>"
      ],
      "text/plain": [
       "               year         month  total_flights  delayed_flights  \\\n",
       "count  72505.000000  72505.000000   72505.000000     72505.000000   \n",
       "mean    2016.163271      6.507124     417.198566        78.242466   \n",
       "std        1.493389      3.449188    1094.039813       195.069241   \n",
       "min     2014.000000      1.000000       1.000000         0.000000   \n",
       "25%     2015.000000      4.000000      58.000000         9.000000   \n",
       "50%     2016.000000      7.000000     120.000000        22.000000   \n",
       "75%     2018.000000      9.000000     301.000000        58.000000   \n",
       "max     2019.000000     12.000000   21977.000000      4176.000000   \n",
       "\n",
       "       del_carrier_ct  del_weather_ct    del_nas_ct  del_security_ct  \\\n",
       "count    72505.000000    72505.000000  72505.000000     72505.000000   \n",
       "mean        22.463791        2.430164     24.321352         0.135017   \n",
       "std         49.352208        7.231386     70.936954         0.558802   \n",
       "min          0.000000        0.000000      0.000000         0.000000   \n",
       "25%          2.950000        0.000000      1.790000         0.000000   \n",
       "50%          7.760000        0.540000      5.300000         0.000000   \n",
       "75%         19.820000        2.000000     15.160000         0.000000   \n",
       "max       1242.160000      240.790000   1884.420000        19.530000   \n",
       "\n",
       "       del_late_aircraft_ct  cancelled_flights      ...        \\\n",
       "count          72505.000000       72505.000000      ...         \n",
       "mean              28.892165           6.667057      ...         \n",
       "std               79.384913          28.425990      ...         \n",
       "min                0.000000           0.000000      ...         \n",
       "25%                2.240000           0.000000      ...         \n",
       "50%                6.990000           1.000000      ...         \n",
       "75%               19.340000           4.000000      ...         \n",
       "max             1849.000000        1312.000000      ...         \n",
       "\n",
       "       min_late_aircraft_delay  pct_delayed_flights  pct_cancelled_flights  \\\n",
       "count             72505.000000         72505.000000           72505.000000   \n",
       "mean               1918.875884            19.203377               1.763340   \n",
       "std                5365.458134            10.333389               3.351874   \n",
       "min                   0.000000             0.000000               0.000000   \n",
       "25%                 123.000000            12.500000               0.000000   \n",
       "50%                 445.000000            18.048780               0.486285   \n",
       "75%                1316.000000            24.561404               2.173913   \n",
       "max              148181.000000           100.000000              86.666667   \n",
       "\n",
       "       pct_diverted_flights  pct_del_carrier  pct_del_weather   pct_del_nas  \\\n",
       "count          72505.000000     70748.000000     70748.000000  70748.000000   \n",
       "mean               0.292673        35.725165         3.936467     27.615986   \n",
       "std                1.008620        17.907886         7.020914     18.300916   \n",
       "min                0.000000         0.000000         0.000000      0.000000   \n",
       "25%                0.000000        24.963780         0.000000     15.000000   \n",
       "50%                0.000000        33.916667         1.416667     25.000000   \n",
       "75%                0.186451        44.368421         5.013490     37.000000   \n",
       "max               66.666667       100.000000       100.000000    100.000000   \n",
       "\n",
       "       pct_del_security  pct_del_late  min_per_delay  \n",
       "count      70748.000000  70748.000000   70748.000000  \n",
       "mean           0.187687     32.535806      59.204652  \n",
       "std            1.464296     17.233184      28.580177  \n",
       "min            0.000000      0.000000      15.000000  \n",
       "25%            0.000000     21.744085      44.904762  \n",
       "50%            0.000000     32.326499      55.307751  \n",
       "75%            0.000000     43.136755      67.709821  \n",
       "max          100.000000    100.000000    1461.000000  \n",
       "\n",
       "[8 rows x 26 columns]"
      ]
     },
     "execution_count": 15,
     "metadata": {},
     "output_type": "execute_result"
    }
   ],
   "source": [
    "df_master.describe()"
   ]
  },
  {
   "cell_type": "markdown",
   "metadata": {},
   "source": [
    "As it results obvious in the chart above, some fields such as 'delayed_flights', 'cancelled_flights' and some others have maximum values that seem very extreme compared to the 75% quantile values. Also, all fields related to percentage of delays due to a specific reason report maximum values of 100%. This is feasible since in a record you may have an airline that reported all their delays in a month due to a single reason. For example, in a specific month an airline may had have a total of five (5) delayed flights, all of those due to weather. Some of the \"extreme\" values were investigated below."
   ]
  },
  {
   "cell_type": "code",
   "execution_count": 16,
   "metadata": {
    "scrolled": true
   },
   "outputs": [
    {
     "data": {
      "text/html": [
       "<div>\n",
       "<style scoped>\n",
       "    .dataframe tbody tr th:only-of-type {\n",
       "        vertical-align: middle;\n",
       "    }\n",
       "\n",
       "    .dataframe tbody tr th {\n",
       "        vertical-align: top;\n",
       "    }\n",
       "\n",
       "    .dataframe thead th {\n",
       "        text-align: right;\n",
       "    }\n",
       "</style>\n",
       "<table border=\"1\" class=\"dataframe\">\n",
       "  <thead>\n",
       "    <tr style=\"text-align: right;\">\n",
       "      <th></th>\n",
       "      <th>year</th>\n",
       "      <th>month</th>\n",
       "      <th>carrier</th>\n",
       "      <th>carrier_name</th>\n",
       "      <th>airport</th>\n",
       "      <th>airport_name</th>\n",
       "      <th>state</th>\n",
       "      <th>total_flights</th>\n",
       "      <th>delayed_flights</th>\n",
       "      <th>del_carrier_ct</th>\n",
       "      <th>...</th>\n",
       "      <th>min_late_aircraft_delay</th>\n",
       "      <th>pct_delayed_flights</th>\n",
       "      <th>pct_cancelled_flights</th>\n",
       "      <th>pct_diverted_flights</th>\n",
       "      <th>pct_del_carrier</th>\n",
       "      <th>pct_del_weather</th>\n",
       "      <th>pct_del_nas</th>\n",
       "      <th>pct_del_security</th>\n",
       "      <th>pct_del_late</th>\n",
       "      <th>min_per_delay</th>\n",
       "    </tr>\n",
       "  </thead>\n",
       "  <tbody>\n",
       "    <tr>\n",
       "      <th>612</th>\n",
       "      <td>2014</td>\n",
       "      <td>1</td>\n",
       "      <td>MQ</td>\n",
       "      <td>American Eagle Airlines Inc.</td>\n",
       "      <td>ORD</td>\n",
       "      <td>Chicago, IL: Chicago O'Hare International</td>\n",
       "      <td>IL</td>\n",
       "      <td>5478.0</td>\n",
       "      <td>2091.0</td>\n",
       "      <td>327.91</td>\n",
       "      <td>...</td>\n",
       "      <td>71309.0</td>\n",
       "      <td>38.170865</td>\n",
       "      <td>23.950347</td>\n",
       "      <td>0.073019</td>\n",
       "      <td>15.681970</td>\n",
       "      <td>4.382592</td>\n",
       "      <td>42.196078</td>\n",
       "      <td>0.000000</td>\n",
       "      <td>37.739359</td>\n",
       "      <td>87.037303</td>\n",
       "    </tr>\n",
       "    <tr>\n",
       "      <th>5799</th>\n",
       "      <td>2014</td>\n",
       "      <td>6</td>\n",
       "      <td>AA</td>\n",
       "      <td>American Airlines Inc.</td>\n",
       "      <td>DFW</td>\n",
       "      <td>Dallas/Fort Worth, TX: Dallas/Fort Worth Inter...</td>\n",
       "      <td>TX</td>\n",
       "      <td>13503.0</td>\n",
       "      <td>3818.0</td>\n",
       "      <td>700.18</td>\n",
       "      <td>...</td>\n",
       "      <td>148181.0</td>\n",
       "      <td>28.275198</td>\n",
       "      <td>1.044212</td>\n",
       "      <td>0.503592</td>\n",
       "      <td>18.338921</td>\n",
       "      <td>5.028811</td>\n",
       "      <td>28.154007</td>\n",
       "      <td>0.049764</td>\n",
       "      <td>48.428497</td>\n",
       "      <td>73.909377</td>\n",
       "    </tr>\n",
       "    <tr>\n",
       "      <th>60860</th>\n",
       "      <td>2018</td>\n",
       "      <td>6</td>\n",
       "      <td>DL</td>\n",
       "      <td>Delta Air Lines Inc.</td>\n",
       "      <td>ATL</td>\n",
       "      <td>Atlanta, GA: Hartsfield-Jackson Atlanta Intern...</td>\n",
       "      <td>GA</td>\n",
       "      <td>21029.0</td>\n",
       "      <td>4176.0</td>\n",
       "      <td>1026.09</td>\n",
       "      <td>...</td>\n",
       "      <td>131666.0</td>\n",
       "      <td>19.858291</td>\n",
       "      <td>0.294831</td>\n",
       "      <td>0.680013</td>\n",
       "      <td>24.571121</td>\n",
       "      <td>4.509818</td>\n",
       "      <td>36.296935</td>\n",
       "      <td>0.056513</td>\n",
       "      <td>34.565374</td>\n",
       "      <td>88.825910</td>\n",
       "    </tr>\n",
       "    <tr>\n",
       "      <th>69384</th>\n",
       "      <td>2018</td>\n",
       "      <td>11</td>\n",
       "      <td>DL</td>\n",
       "      <td>Delta Air Lines Inc.</td>\n",
       "      <td>ATL</td>\n",
       "      <td>Atlanta, GA: Hartsfield-Jackson Atlanta Intern...</td>\n",
       "      <td>GA</td>\n",
       "      <td>19820.0</td>\n",
       "      <td>3895.0</td>\n",
       "      <td>643.43</td>\n",
       "      <td>...</td>\n",
       "      <td>65739.0</td>\n",
       "      <td>19.651867</td>\n",
       "      <td>0.065590</td>\n",
       "      <td>0.040363</td>\n",
       "      <td>16.519384</td>\n",
       "      <td>2.622850</td>\n",
       "      <td>48.380488</td>\n",
       "      <td>0.025674</td>\n",
       "      <td>32.451861</td>\n",
       "      <td>52.489345</td>\n",
       "    </tr>\n",
       "  </tbody>\n",
       "</table>\n",
       "<p>4 rows × 31 columns</p>\n",
       "</div>"
      ],
      "text/plain": [
       "       year  month carrier                  carrier_name airport  \\\n",
       "612    2014      1      MQ  American Eagle Airlines Inc.     ORD   \n",
       "5799   2014      6      AA        American Airlines Inc.     DFW   \n",
       "60860  2018      6      DL          Delta Air Lines Inc.     ATL   \n",
       "69384  2018     11      DL          Delta Air Lines Inc.     ATL   \n",
       "\n",
       "                                            airport_name state  total_flights  \\\n",
       "612            Chicago, IL: Chicago O'Hare International    IL         5478.0   \n",
       "5799   Dallas/Fort Worth, TX: Dallas/Fort Worth Inter...    TX        13503.0   \n",
       "60860  Atlanta, GA: Hartsfield-Jackson Atlanta Intern...    GA        21029.0   \n",
       "69384  Atlanta, GA: Hartsfield-Jackson Atlanta Intern...    GA        19820.0   \n",
       "\n",
       "       delayed_flights  del_carrier_ct      ...        \\\n",
       "612             2091.0          327.91      ...         \n",
       "5799            3818.0          700.18      ...         \n",
       "60860           4176.0         1026.09      ...         \n",
       "69384           3895.0          643.43      ...         \n",
       "\n",
       "       min_late_aircraft_delay  pct_delayed_flights  pct_cancelled_flights  \\\n",
       "612                    71309.0            38.170865              23.950347   \n",
       "5799                  148181.0            28.275198               1.044212   \n",
       "60860                 131666.0            19.858291               0.294831   \n",
       "69384                  65739.0            19.651867               0.065590   \n",
       "\n",
       "       pct_diverted_flights  pct_del_carrier  pct_del_weather  pct_del_nas  \\\n",
       "612                0.073019        15.681970         4.382592    42.196078   \n",
       "5799               0.503592        18.338921         5.028811    28.154007   \n",
       "60860              0.680013        24.571121         4.509818    36.296935   \n",
       "69384              0.040363        16.519384         2.622850    48.380488   \n",
       "\n",
       "       pct_del_security  pct_del_late  min_per_delay  \n",
       "612            0.000000     37.739359      87.037303  \n",
       "5799           0.049764     48.428497      73.909377  \n",
       "60860          0.056513     34.565374      88.825910  \n",
       "69384          0.025674     32.451861      52.489345  \n",
       "\n",
       "[4 rows x 31 columns]"
      ]
     },
     "execution_count": 16,
     "metadata": {},
     "output_type": "execute_result"
    }
   ],
   "source": [
    "#identification of records with potential extreme values\n",
    "flag = (df_master['delayed_flights'] == 4176) | (df_master['del_nas_ct'] == 1884.42) | (df_master['del_late_aircraft_ct'] == 1849) | (df_master['cancelled_flights'] == 1312)\n",
    "df_master.loc[flag, :]"
   ]
  },
  {
   "cell_type": "markdown",
   "metadata": {},
   "source": [
    "From the table above, it can be concluded that the \"extreme\" values mentioned above may be justified since they are values generated from airports that serve as hubs of operations for some of the major airlines in the United States, For instances, 'total_flights' values around 20,000 in a single month from a single airport may seem extreme, however knowing that Hartsfield-Jackson Atlanta International Airport serves as the major hub for Delta Airlines makes that number very feasible. In terms of 'cancelled_flights', the high number reported by \"American Eagle Airlines Inc.\" in January of 2014 (25% of total flights) may seem odd but further investigation led us a possible reason based on a major weather event. More information can be found by clicking in this link https://www.businessinsider.com/polar-vortex-flight-cancellations-2014-1"
   ]
  },
  {
   "cell_type": "markdown",
   "metadata": {},
   "source": [
    "Since for no reason at all I feel lonely in the prestigiuous list of customers not making it to their destination on time, I would like to share my answers to some interesting questions."
   ]
  },
  {
   "cell_type": "markdown",
   "metadata": {},
   "source": [
    "### Is it always the weather ???"
   ]
  },
  {
   "cell_type": "markdown",
   "metadata": {},
   "source": [
    "Have you felt desperate rushing through the security gates at the airport, with your heart pumping at extreme rates thinking that you will not make it to your flight ? Sadly, that is what many travelers experience daily in the United States. Let's just stop and think what might happen if you do not make it. First, you will need to almost beg the airline to find you a seat in the next flight, which in some cases might be few hours later, but in some other cases a pleasant night sleeping at the airport. Second, if you happened to check a bag, the bag will probably make a round trip without its owner until it makes it back to you few days later. Let's now switch roles, you made all necessary arrangements to be 2-3 before your flight at the airport (very expensive food, many times no free internet, and if you have small children, HELL !!). You finally cleared TSA and make it to the gate to receive the news that your flight is delayed. From that very second, all assumptions start going through your head, from a polar vortex to godzilla, you immediately try to justify the delay. You ask for reasons and in most of the cases 'weather' is blamed and the top-secret truth stays hidden in the body of the unfortunate airline representative that is paid to receive the hate of many customer."
   ]
  },
  {
   "cell_type": "markdown",
   "metadata": {},
   "source": [
    "It is very common that this is the message that you will receive from the airline after inquiring about the delayed flight: **\"We are so sorry but due to the weather your flight has been delayed, and it is the only information we can have for now\"**. As logical people we tend to accept that information as truth knowing we live in a very large country, the size of some continents, where anything can happen at any given second regarding the weather. But IS IT ALWAYS THE WEATHER???"
   ]
  },
  {
   "cell_type": "code",
   "execution_count": 17,
   "metadata": {
    "scrolled": true
   },
   "outputs": [
    {
     "name": "stderr",
     "output_type": "stream",
     "text": [
      "/anaconda3/lib/python3.6/site-packages/matplotlib/figure.py:2366: UserWarning: This figure includes Axes that are not compatible with tight_layout, so results might be incorrect.\n",
      "  warnings.warn(\"This figure includes Axes that are not compatible \"\n"
     ]
    },
    {
     "data": {
      "image/png": "[encoded data removed]",
      "text/plain": [
       "<Figure size 576x288 with 1 Axes>"
      ]
     },
     "metadata": {
      "needs_background": "light"
     },
     "output_type": "display_data"
    }
   ],
   "source": [
    "#data preparation for the plot\n",
    "delay_causes = df_master[['pct_del_carrier', 'pct_del_weather', 'pct_del_nas', 'pct_del_security', 'pct_del_late']].mean().sort_values(ascending = False)\n",
    "labels = ['Carrier', 'Late Aircraft', 'National Aviation System', 'Extreme Weather', 'Security']\n",
    "\n",
    "#drawing the plot\n",
    "plt.figure(figsize = [8, 4])\n",
    "bplot = sns.barplot(x = delay_causes.index, y = delay_causes.values, palette = 'colorblind')\n",
    "\n",
    "#plot decorations\n",
    "plt.title('Causes of Flight Delays in United States (2014-2018)', fontsize = 14, weight = 'bold')\n",
    "plt.xlabel('Causes of Delays', fontsize = 13, weight = 'bold')\n",
    "plt.ylabel('Percentage (%)', fontsize = 13, weight = 'bold')\n",
    "plt.xticks(range(0, 5), labels, rotation = 10)\n",
    "\n",
    "for p in bplot.patches: # create the annotation on top of each bar\n",
    "    bplot.annotate('{:.2f} %'.format(p.get_height(), '.2f'), (p.get_x() + p.get_width() / 2., p.get_height() - 0.25), ha = 'center', va = 'center', xytext = (0, 10), textcoords = 'offset points', weight = 'bold')\n",
    "\n",
    "frame1 = plt.gca() # makes the values in the y-axis invisible\n",
    "frame1.axes.get_yaxis().set_visible(False)\n",
    "\n",
    "bplot.spines['top'].set_visible(False) # Remove the borders in the plot\n",
    "bplot.spines['right'].set_visible(False)\n",
    "bplot.spines['bottom'].set_visible(False)\n",
    "bplot.spines['left'].set_visible(False)\n",
    "\n",
    "ttl = bplot.title\n",
    "ttl.set_position([.5, 1.05])\n",
    "\n",
    "plt.savefig('plot1.png');"
   ]
  },
  {
   "cell_type": "markdown",
   "metadata": {},
   "source": [
    "And the answer is very tricky. In the figure above, a summary of the most common causes for delayed flights in the period of 2014-2018 in the United States are represented. As it can be noted, the most common reason for a delayed flight were delays due to **\"Carrier\"** (35.7%), situations within the airline's control (e.g. maintenance, crew problems, aircraft cleaning, baggage loading, fueling. On the other end, delays due to **\"Security\"** (delays or cancellations caused by evacuation of a terminal or concourse, re-boarding of aircraft because of security breach, inoperative screening equipment and/or long lines in excess of 29 minutes at screening areas) were the least common with only 0.2 % of the flights being delayed for this reason. Although it seems that **\"Extreme Weather\"** was only responsible of the delay of approximately 4% of the flights during the studied period, a variable fraction of the delays under **\"National Aviation System\"** (delays and cancellations due to the national aviation system that refer to a varied set of situations, such as non-extreme weather conditions, airport operations, heavy traffic volume, and air traffic control) and **\"Late Aircraft\"** (a previous flight using the same aircraft arrived late, causing the present flight to depart late) can also be attributed to milder weather events that result in delays."
   ]
  },
  {
   "cell_type": "markdown",
   "metadata": {},
   "source": [
    "**Why aren’t all weather-related delays reported as a single category ?** a committee named the *Air Carrier On-Time Reporting Advisory Committee* created the reporting system in use believing that keeping the extreme weather delays from the weather delays that could be fixed through improvements to the system, would give a more realistic picture of the extent of weather delays. Soooo, is it really the weather ??? I guess it depends, in some occassions when major weather events have occurred in some parts of the country, it is very feasible that a flight will be delayed, likely causing delays in the next flight and producing a chain reaction of delays. Being afraid to sound like a airline representative, I just advice you to be patient, do not scream, but always ask for coupons and credit if the delay gets too long. A little pressure never hurts to make things work better."
   ]
  },
  {
   "cell_type": "markdown",
   "metadata": {},
   "source": [
    "### This is the last time I am flying this airline !!!"
   ]
  },
  {
   "cell_type": "markdown",
   "metadata": {},
   "source": [
    "You are already on board and you start seeing the light at the end of the tunnel, deep breath, and you suddenly say **THIS IS THE LAST TIME I FLY WITH THIS AIRLINE !!!** As much as you want this to be true, many factors are involved in deciding which airline to pick for your next journey and may be the following information can help you a little bit. A survey of the flight delays data available for the period between 2014 and 2018 indicates that on average 19.6% of the flights were delayed for reasons discussed in the previous section of this work. From that average proportion of delays during the 2014-2018 period, some airlines performed better than others.\n",
    "\n",
    "**NOTE:** the following image and discussion does not try to predict performance of the airlines but rather illustrate the performance in terms of delays in the period specified"
   ]
  },
  {
   "cell_type": "code",
   "execution_count": 18,
   "metadata": {
    "scrolled": false
   },
   "outputs": [],
   "source": [
    "#data preparation for the plot\n",
    "pct_delays_carrier = df_master.groupby('carrier_name')['pct_delayed_flights'].mean()\n",
    "length_delays_carrier = df_master.groupby('carrier_name')['min_per_delay'].mean()\n",
    "pct_delay_carrier = df_master.groupby('carrier_name')['pct_del_carrier'].mean()\n",
    "\n",
    "df_by_carrier = pd.DataFrame() #empty dataframe and appending columns\n",
    "df_by_carrier['pct_delays'] = pct_delays_carrier\n",
    "df_by_carrier['avg_length_delay'] = length_delays_carrier\n",
    "df_by_carrier['diff_pct_delays'] = df_by_carrier['pct_delays'] - 20\n",
    "df_by_carrier['pct_del_carrier'] = pct_delay_carrier\n",
    "df_by_carrier.sort_values(by='diff_pct_delays', ascending=True, inplace=True)\n",
    "\n",
    "#color coding the records based on the difference of percentage of flight delays and the mean for all the airlines\n",
    "df_by_carrier['colors'] = ['green' if x < 0 else 'red' for x in df_by_carrier['diff_pct_delays']]"
   ]
  },
  {
   "cell_type": "code",
   "execution_count": 19,
   "metadata": {},
   "outputs": [
    {
     "name": "stderr",
     "output_type": "stream",
     "text": [
      "/anaconda3/lib/python3.6/site-packages/matplotlib/figure.py:2366: UserWarning: This figure includes Axes that are not compatible with tight_layout, so results might be incorrect.\n",
      "  warnings.warn(\"This figure includes Axes that are not compatible \"\n"
     ]
    },
    {
     "data": {
      "image/png": "[encoded data removed]",
      "text/plain": [
       "<Figure size 1120x800 with 1 Axes>"
      ]
     },
     "metadata": {
      "needs_background": "light"
     },
     "output_type": "display_data"
    }
   ],
   "source": [
    "#drawing the plot\n",
    "plt.figure(figsize=(14,10), dpi= 80)\n",
    "plt.scatter(df_by_carrier['diff_pct_delays'], df_by_carrier.index, s=550, alpha=.6, color=df_by_carrier.colors)\n",
    "for x, y, tex in zip(df_by_carrier['diff_pct_delays'], df_by_carrier.index, df_by_carrier['diff_pct_delays']):\n",
    "    t = plt.text(x, y, round(tex, 1), horizontalalignment='center', \n",
    "                 verticalalignment='center', fontdict={'color':'white', 'size':12})\n",
    "\n",
    "#plot decorations\n",
    "plt.ylabel('Airline', fontsize=14, weight='bold') \n",
    "plt.xlabel('Percentage of Delays per Airline', fontsize=14, weight='bold')\n",
    "plt.yticks(df_by_carrier.index, fontsize=12)\n",
    "plt.title('Average Percentage of Delays per Airline (2014-2018)', fontdict={'size':20}, pad=20, weight='bold')\n",
    "plt.xticks(np.arange(1), (['Mean = 20%']), fontsize=11)\n",
    "plt.axvline(0, color='black', alpha=0.2)\n",
    "plt.grid(linestyle='--', alpha=0.7)\n",
    "\n",
    "ax = plt.gca()\n",
    "ax.spines['top'].set_visible(False)\n",
    "ax.spines['right'].set_visible(False)\n",
    "ax.spines['bottom'].set_visible(False)\n",
    "ax.spines['left'].set_visible(False)\n",
    "ax.tick_params(axis='both', which='both', length=0)\n",
    "\n",
    "plt.savefig('plot2.png');"
   ]
  },
  {
   "cell_type": "markdown",
   "metadata": {},
   "source": [
    "As it can be observed in the chart above, the carrier that reported the highest percentage of delays during the last five years was **American Eagle Airlines** (25.7%) followed by **Frontier Airlines** (25.02%) and **JetBlue Airways** (22.94%). However, to be fair **American Eagle Airlines** only reported data until mid 2014 when it changed its name to **Envoy Air** which is not in our top five list for the most delayed. The data for both carriers was kept separated since we had no certainty about the how the operations were affected after the change of name.\n",
    "\n",
    "In contrast, the real winner is **Delta Air Lines**. Even not being the carrier reporting the lowest percentage of delayed flights, the massive number of flights carried on by the airline and the low percentage of delays reported (13.7%) makes it, in my opinion, the most reliable carrier in the group during 2014-2018."
   ]
  },
  {
   "cell_type": "markdown",
   "metadata": {},
   "source": [
    "### Does size matters ???"
   ]
  },
  {
   "cell_type": "markdown",
   "metadata": {},
   "source": [
    "In a recent converstation with other angry-delayed travelers, I heard comments about how different airports and airlines seem to be more prone to delays than others based on the size of the operations they carry. In order to answer this question, the airlines were divided into two groups depending on the size of their operations throughout the period 2014-2018. The list below show the carriers from the largest number of flights to the smallest."
   ]
  },
  {
   "cell_type": "code",
   "execution_count": 20,
   "metadata": {
    "scrolled": false
   },
   "outputs": [
    {
     "data": {
      "text/plain": [
       "carrier_name\n",
       "Southwest Airlines Co.          6443767.0\n",
       "Delta Air Lines Inc.            4483772.0\n",
       "American Airlines Inc.          3998069.0\n",
       "SkyWest Airlines Inc.           3287977.0\n",
       "United Air Lines Inc.           2767773.0\n",
       "ExpressJet Airlines Inc.        2291412.0\n",
       "JetBlue Airways                 1429264.0\n",
       "Alaska Airlines Inc.             942125.0\n",
       "Envoy Air                        883343.0\n",
       "US Airways Inc.                  613380.0\n",
       "Spirit Air Lines                 609311.0\n",
       "Frontier Airlines Inc.           495048.0\n",
       "Hawaiian Airlines Inc.           391688.0\n",
       "Republic Airline                 316099.0\n",
       "PSA Airlines Inc.                278457.0\n",
       "Virgin America                   277184.0\n",
       "Endeavor Air Inc.                246008.0\n",
       "Mesa Airlines Inc.               215144.0\n",
       "American Eagle Airlines Inc.      99989.0\n",
       "Allegiant Air                     99677.0\n",
       "AirTran Airways Corporation       79495.0\n",
       "Name: total_flights, dtype: float64"
      ]
     },
     "execution_count": 20,
     "metadata": {},
     "output_type": "execute_result"
    }
   ],
   "source": [
    "#aggregation of the data by airline based on total number of flights sorted in descending order\n",
    "size = df_master.groupby('carrier_name')['total_flights'].sum().sort_values(ascending = False)\n",
    "size"
   ]
  },
  {
   "cell_type": "markdown",
   "metadata": {},
   "source": [
    "In order to get a better idea about the what size of operations will serve as cutoff for creating the two groups, summary statistics were evaluated below, suggesting that operations larger than 600,000 flights during the last five years may be called 'large' while operations sizes below that number may be considered 'small'."
   ]
  },
  {
   "cell_type": "code",
   "execution_count": 21,
   "metadata": {
    "scrolled": true
   },
   "outputs": [
    {
     "data": {
      "text/plain": [
       "count    2.100000e+01\n",
       "mean     1.440428e+06\n",
       "std      1.774900e+06\n",
       "min      7.949500e+04\n",
       "25%      2.771840e+05\n",
       "50%      6.093110e+05\n",
       "75%      2.291412e+06\n",
       "max      6.443767e+06\n",
       "Name: total_flights, dtype: float64"
      ]
     },
     "execution_count": 21,
     "metadata": {},
     "output_type": "execute_result"
    }
   ],
   "source": [
    "#estimation of cutoff to code carrier as 'large' or 'small' in terms of size of operations\n",
    "df_master.groupby('carrier_name').total_flights.sum().sort_values(ascending = False).describe()"
   ]
  },
  {
   "cell_type": "code",
   "execution_count": 22,
   "metadata": {},
   "outputs": [],
   "source": [
    "#creation of new dataframe\n",
    "df_size = pd.DataFrame()\n",
    "df_size['carrier_name'] = size.index\n",
    "df_size['total_flights_14-18'] = size.values"
   ]
  },
  {
   "cell_type": "code",
   "execution_count": 23,
   "metadata": {},
   "outputs": [],
   "source": [
    "#coding airlines in terms of operation size ('total_flights_14-18')\n",
    "df_size['carrier_size'] = np.where(df_size['total_flights_14-18'] > 600000, 'large', 'small')"
   ]
  },
  {
   "cell_type": "code",
   "execution_count": 24,
   "metadata": {},
   "outputs": [
    {
     "data": {
      "text/html": [
       "<div>\n",
       "<style scoped>\n",
       "    .dataframe tbody tr th:only-of-type {\n",
       "        vertical-align: middle;\n",
       "    }\n",
       "\n",
       "    .dataframe tbody tr th {\n",
       "        vertical-align: top;\n",
       "    }\n",
       "\n",
       "    .dataframe thead th {\n",
       "        text-align: right;\n",
       "    }\n",
       "</style>\n",
       "<table border=\"1\" class=\"dataframe\">\n",
       "  <thead>\n",
       "    <tr style=\"text-align: right;\">\n",
       "      <th></th>\n",
       "      <th>carrier_name</th>\n",
       "      <th>total_flights_14-18</th>\n",
       "      <th>carrier_size</th>\n",
       "      <th>pct_delay_flights_14-18</th>\n",
       "      <th>min_per_delay_14-18</th>\n",
       "    </tr>\n",
       "  </thead>\n",
       "  <tbody>\n",
       "    <tr>\n",
       "      <th>0</th>\n",
       "      <td>Southwest Airlines Co.</td>\n",
       "      <td>6443767.0</td>\n",
       "      <td>large</td>\n",
       "      <td>21.251390</td>\n",
       "      <td>49.569292</td>\n",
       "    </tr>\n",
       "    <tr>\n",
       "      <th>1</th>\n",
       "      <td>Delta Air Lines Inc.</td>\n",
       "      <td>4483772.0</td>\n",
       "      <td>large</td>\n",
       "      <td>13.705522</td>\n",
       "      <td>58.486721</td>\n",
       "    </tr>\n",
       "    <tr>\n",
       "      <th>2</th>\n",
       "      <td>American Airlines Inc.</td>\n",
       "      <td>3998069.0</td>\n",
       "      <td>large</td>\n",
       "      <td>21.176253</td>\n",
       "      <td>56.204636</td>\n",
       "    </tr>\n",
       "    <tr>\n",
       "      <th>3</th>\n",
       "      <td>SkyWest Airlines Inc.</td>\n",
       "      <td>3287977.0</td>\n",
       "      <td>large</td>\n",
       "      <td>18.310551</td>\n",
       "      <td>64.117541</td>\n",
       "    </tr>\n",
       "    <tr>\n",
       "      <th>4</th>\n",
       "      <td>United Air Lines Inc.</td>\n",
       "      <td>2767773.0</td>\n",
       "      <td>large</td>\n",
       "      <td>19.868043</td>\n",
       "      <td>63.327584</td>\n",
       "    </tr>\n",
       "  </tbody>\n",
       "</table>\n",
       "</div>"
      ],
      "text/plain": [
       "             carrier_name  total_flights_14-18 carrier_size  \\\n",
       "0  Southwest Airlines Co.            6443767.0        large   \n",
       "1    Delta Air Lines Inc.            4483772.0        large   \n",
       "2  American Airlines Inc.            3998069.0        large   \n",
       "3   SkyWest Airlines Inc.            3287977.0        large   \n",
       "4   United Air Lines Inc.            2767773.0        large   \n",
       "\n",
       "   pct_delay_flights_14-18  min_per_delay_14-18  \n",
       "0                21.251390            49.569292  \n",
       "1                13.705522            58.486721  \n",
       "2                21.176253            56.204636  \n",
       "3                18.310551            64.117541  \n",
       "4                19.868043            63.327584  "
      ]
     },
     "execution_count": 24,
     "metadata": {},
     "output_type": "execute_result"
    }
   ],
   "source": [
    "pct_delays = df_master.groupby('carrier_name').pct_delayed_flights.mean().sort_values(ascending = False)\n",
    "df_pct_delays = pd.DataFrame()\n",
    "df_pct_delays['carrier_name'] = pct_delays.index\n",
    "df_pct_delays['pct_delay_flights_14-18'] = pct_delays.values\n",
    "\n",
    "df_size = df_size.merge(df_pct_delays, on = 'carrier_name')\n",
    "\n",
    "min_delay = df_master.groupby('carrier_name').min_per_delay.mean().sort_values(ascending = False)\n",
    "df_min_delay = pd.DataFrame()\n",
    "df_min_delay['carrier_name'] = min_delay.index\n",
    "df_min_delay['min_per_delay_14-18'] = min_delay.values\n",
    "\n",
    "df_size = df_size.merge(df_min_delay, on = 'carrier_name')\n",
    "df_size.head()"
   ]
  },
  {
   "cell_type": "code",
   "execution_count": 25,
   "metadata": {
    "scrolled": false
   },
   "outputs": [
    {
     "name": "stderr",
     "output_type": "stream",
     "text": [
      "/anaconda3/lib/python3.6/site-packages/matplotlib/figure.py:2366: UserWarning: This figure includes Axes that are not compatible with tight_layout, so results might be incorrect.\n",
      "  warnings.warn(\"This figure includes Axes that are not compatible \"\n"
     ]
    },
    {
     "data": {
      "image/png": "[encoded data removed]",
      "text/plain": [
       "<Figure size 720x360 with 1 Axes>"
      ]
     },
     "metadata": {
      "needs_background": "light"
     },
     "output_type": "display_data"
    }
   ],
   "source": [
    "#drawing the plot\n",
    "plt.figure(figsize = [10, 5])\n",
    "size_plot = sns.scatterplot(data=df_size, y = 'pct_delay_flights_14-18', x ='total_flights_14-18', hue ='carrier_size', style='carrier_size', palette = 'colorblind', s = 60, legend='full')\n",
    "\n",
    "#plot decorations\n",
    "plt.title('Average Percentage of Delayed Flights by Airline Size (2014-2018)', fontsize = 14, weight = 'bold', pad=30)\n",
    "plt.xlabel('Total Number of Flights by a Carrier', fontsize = 11, weight = 'bold')\n",
    "plt.ylabel('Avg. Percentage of Delayed Flights', fontsize = 11, weight = 'bold')\n",
    "\n",
    "size_plot.spines['right'].set_visible(False)\n",
    "size_plot.spines['top'].set_visible(False)\n",
    "plt.savefig('plot3.png');"
   ]
  },
  {
   "cell_type": "markdown",
   "metadata": {},
   "source": [
    "In the plot above, it can be observed that the scale or size of the operations of a carrier does not imply a higher percentage of delayed flights. Actually, the airlines that reported the lowest percentages of delayed flights (below 14%) between years 2014 and 2018 were airlines with large operations (above 1,000,000 flights in the last five years). In constrast, the two carriers that reported the highest percentage of delayed flights (approximately 25% and above) were airlines with number of flights below the 500,000 flights in the last five years. Based on this information, it seems that there is not enough evidence to support choosing an airline based on size of its operations when worrying about delays. Many other reasons are typically behind deciding what airline to choose like cost, scheduling options, etc, but do not tell me it would not be awesome to know how likely is your flight to be delayed when purchasing the ticket. \n",
    "\n",
    "For many people such a prediction will need, to the very least, an astrologist or car reader, **BUT KEEP AN EYE ON THE NEWS...MACHINE LEARNING AND ARTIFICIAL INTELLIGENCE ARE HERE TO STAY**"
   ]
  },
  {
   "cell_type": "markdown",
   "metadata": {},
   "source": [
    "### References"
   ]
  },
  {
   "cell_type": "markdown",
   "metadata": {},
   "source": [
    "- The original data used for this work was manually downloaded from the United States Department of Transportation website hosted under the following link: https://www.transtats.bts.gov/OT_Delay/OT_DelayCause1.asp?pn=1.\n",
    "\n",
    "- Appropriate description of the original fields can be found in https://www.bts.gov/topics/airlines-and-airports/understanding-reporting-causes-flight-delays-and-cancellations\n",
    "\n",
    "- In occassions, the documentation available for the Python's libraries used in this work and certain built-in functions was accessed through the internet "
   ]
  }
 ],
 "metadata": {
  "kernelspec": {
   "display_name": "Python 3",
   "language": "python",
   "name": "python3"
  },
  "language_info": {
   "codemirror_mode": {
    "name": "ipython",
    "version": 3
   },
   "file_extension": ".py",
   "mimetype": "text/x-python",
   "name": "python",
   "nbconvert_exporter": "python",
   "pygments_lexer": "ipython3",
   "version": "3.6.8"
  }
 },
 "nbformat": 4,
 "nbformat_minor": 2
}
